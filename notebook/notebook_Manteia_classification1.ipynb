{
 "cells": [
  {
   "cell_type": "code",
   "execution_count": 4,
   "metadata": {},
   "outputs": [
    {
     "name": "stdout",
     "output_type": "stream",
     "text": [
      "Dataset : \n",
      "Number of documents : 161297\n",
      "Type : multilabel\n",
      "List of labels : ['1.0' '10.0' '2.0' '3.0' '4.0' '5.0' '6.0' '7.0' '8.0' '9.0']\n",
      "Number of classes : 10\n",
      "Word count per document : 85.64678822296757\n",
      "Unique word count : 208284\n",
      "Document count per classe : {'1.0': 21619, '10.0': 50989, '2.0': 6931, '3.0': 6513, '4.0': 5012, '5.0': 8013, '6.0': 6343, '7.0': 9456, '8.0': 18890, '9.0': 27531}\n",
      "\n",
      "\n"
     ]
    },
    {
     "data": {
      "image/png": "[encoded data removed]",
      "text/plain": [
       "<Figure size 432x288 with 1 Axes>"
      ]
     },
     "metadata": {
      "needs_background": "light"
     },
     "output_type": "display_data"
    },
    {
     "name": "stdout",
     "output_type": "stream",
     "text": [
      "Loading roberta tokenizer...\n",
      "Loading roberta class...\n"
     ]
    },
    {
     "name": "stderr",
     "output_type": "stream",
     "text": [
      "Token indices sequence length is longer than the specified maximum sequence length for this model (569 > 512). Running this sequence through the model will result in indexing errors\n"
     ]
    },
    {
     "name": "stdout",
     "output_type": "stream",
     "text": [
      "There are 2 GPU(s) available.\n",
      "We will use the GPU: GeForce RTX 2080 Ti\n",
      "\n",
      "======== Epoch 1 / 4 ========\n",
      "Training :\n",
      "                                                                            \n",
      "  Average training loss: 2.09\n",
      "  Training epoch took: 0:00:09\n",
      "Validation :\n",
      "                                                                          \n",
      "  Accuracy: 0.38\n",
      "  Validation took: 0:00:00\n",
      "\n",
      "======== Epoch 2 / 4 ========\n",
      "Training :\n",
      "                                                                            \n",
      "  Average training loss: 1.84\n",
      "  Training epoch took: 0:00:09\n",
      "Validation :\n",
      "                                                                          \n",
      "  Accuracy: 0.44\n",
      "  Validation took: 0:00:00\n",
      "\n",
      "======== Epoch 3 / 4 ========\n",
      "Training :\n",
      "                                                                            \n",
      "  Average training loss: 1.66\n",
      "  Training epoch took: 0:00:09\n",
      "Validation :\n",
      "                                                                          \n",
      "  Accuracy: 0.48\n",
      "  Validation took: 0:00:00\n",
      "\n",
      "======== Epoch 4 / 4 ========\n",
      "Training :\n",
      "                                                                            \n",
      "  Average training loss: 1.52\n",
      "  Training epoch took: 0:00:09\n",
      "Validation :\n",
      "                                                                          \n",
      "  Accuracy: 0.45\n",
      "  Validation took: 0:00:00\n",
      "\n",
      "Training complete!\n",
      "['10.0', '9.0']\n"
     ]
    }
   ],
   "source": [
    "from Manteia.Classification import Classification \n",
    "from Manteia.Model import Model \n",
    "from Manteia.Dataset import Dataset \n",
    "from Manteia.Statistic import Statistic\n",
    "from Manteia.Visualisation import Visualisation\n",
    "\n",
    "ds=Dataset('drugscom',path='path to dataset')\n",
    "stat=Statistic(ds.documents_train,ds.labels_train)\n",
    "\n",
    "visu = Visualisation()\n",
    "visu.plot_boxplot(ds.labels_train,stat.length_of_documents(),ylim=500)\n",
    "\n",
    "model = Model(model_name ='roberta')\n",
    "cl=Classification(model,documents_train=ds.documents_train[:1000],labels_train=ds.labels_train[:1000],process_classif=True)\n",
    "print(cl.predict(ds.documents_train[:2]))"
   ]
  }
 ],
 "metadata": {
  "kernelspec": {
   "display_name": "tf_gpu",
   "language": "python",
   "name": "tf_gpu"
  },
  "language_info": {
   "codemirror_mode": {
    "name": "ipython",
    "version": 3
   },
   "file_extension": ".py",
   "mimetype": "text/x-python",
   "name": "python",
   "nbconvert_exporter": "python",
   "pygments_lexer": "ipython3",
   "version": "3.7.7"
  }
 },
 "nbformat": 4,
 "nbformat_minor": 4
}
