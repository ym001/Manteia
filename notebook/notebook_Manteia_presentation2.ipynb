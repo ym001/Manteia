{
  "nbformat": 4,
  "nbformat_minor": 0,
  "metadata": {
    "kernelspec": {
      "display_name": "tf_gpu",
      "language": "python",
      "name": "tf_gpu"
    },
    "language_info": {
      "codemirror_mode": {
        "name": "ipython",
        "version": 3
      },
      "file_extension": ".py",
      "mimetype": "text/x-python",
      "name": "python",
      "nbconvert_exporter": "python",
      "pygments_lexer": "ipython3",
      "version": "3.7.7"
    },
    "colab": {
      "name": "notebook_Manteia_classification_visualisation.ipynb",
      "provenance": []
    },
    "accelerator": "GPU"
  },
  "cells": [
    {
      "cell_type": "markdown",
      "metadata": {
        "id": "x1MC8MkgV2gW",
        "colab_type": "text"
      },
      "source": [
        ""
      ]
    },
    {
      "cell_type": "markdown",
      "metadata": {
        "id": "4suMUv4UKzGU",
        "colab_type": "text"
      },
      "source": [
        "[![Open In Colab](https://colab.research.google.com/assets/colab-badge.svg)](https://github.com/ym001/Manteia/blob/master/notebook/notebook_Manteia_presentation2.ipynb)\n",
        "\n",
        "Run this nootbook with GPU : ->Modifier->Parametre du nootbook->accélérateur matériel->GPU"
      ]
    },
    {
      "cell_type": "code",
      "metadata": {
        "id": "nXesee8RWngy",
        "colab_type": "code",
        "colab": {
          "base_uri": "https://localhost:8080/",
          "height": 650
        },
        "outputId": "e44d4ad9-cc5c-4245-a42b-b00e9446fd90"
      },
      "source": [
        "pip install manteia"
      ],
      "execution_count": 7,
      "outputs": [
        {
          "output_type": "stream",
          "text": [
            "Requirement already satisfied: manteia in /usr/local/lib/python3.6/dist-packages (0.0.34)\n",
            "Requirement already satisfied: wget in /usr/local/lib/python3.6/dist-packages (from manteia) (3.2)\n",
            "Requirement already satisfied: matplotlib in /usr/local/lib/python3.6/dist-packages (from manteia) (3.2.1)\n",
            "Requirement already satisfied: numpy in /usr/local/lib/python3.6/dist-packages (from manteia) (1.18.5)\n",
            "Requirement already satisfied: torch in /usr/local/lib/python3.6/dist-packages (from manteia) (1.5.0+cu101)\n",
            "Requirement already satisfied: seaborn in /usr/local/lib/python3.6/dist-packages (from manteia) (0.10.1)\n",
            "Requirement already satisfied: pandas in /usr/local/lib/python3.6/dist-packages (from manteia) (1.0.4)\n",
            "Requirement already satisfied: scikit-learn in /usr/local/lib/python3.6/dist-packages (from manteia) (0.22.2.post1)\n",
            "Requirement already satisfied: nltk in /usr/local/lib/python3.6/dist-packages (from manteia) (3.2.5)\n",
            "Requirement already satisfied: transformers in /usr/local/lib/python3.6/dist-packages (from manteia) (2.11.0)\n",
            "Requirement already satisfied: python-dateutil>=2.1 in /usr/local/lib/python3.6/dist-packages (from matplotlib->manteia) (2.8.1)\n",
            "Requirement already satisfied: cycler>=0.10 in /usr/local/lib/python3.6/dist-packages (from matplotlib->manteia) (0.10.0)\n",
            "Requirement already satisfied: kiwisolver>=1.0.1 in /usr/local/lib/python3.6/dist-packages (from matplotlib->manteia) (1.2.0)\n",
            "Requirement already satisfied: pyparsing!=2.0.4,!=2.1.2,!=2.1.6,>=2.0.1 in /usr/local/lib/python3.6/dist-packages (from matplotlib->manteia) (2.4.7)\n",
            "Requirement already satisfied: future in /usr/local/lib/python3.6/dist-packages (from torch->manteia) (0.16.0)\n",
            "Requirement already satisfied: scipy>=1.0.1 in /usr/local/lib/python3.6/dist-packages (from seaborn->manteia) (1.4.1)\n",
            "Requirement already satisfied: pytz>=2017.2 in /usr/local/lib/python3.6/dist-packages (from pandas->manteia) (2018.9)\n",
            "Requirement already satisfied: joblib>=0.11 in /usr/local/lib/python3.6/dist-packages (from scikit-learn->manteia) (0.15.1)\n",
            "Requirement already satisfied: six in /usr/local/lib/python3.6/dist-packages (from nltk->manteia) (1.12.0)\n",
            "Requirement already satisfied: filelock in /usr/local/lib/python3.6/dist-packages (from transformers->manteia) (3.0.12)\n",
            "Requirement already satisfied: sentencepiece in /usr/local/lib/python3.6/dist-packages (from transformers->manteia) (0.1.91)\n",
            "Requirement already satisfied: sacremoses in /usr/local/lib/python3.6/dist-packages (from transformers->manteia) (0.0.43)\n",
            "Requirement already satisfied: tokenizers==0.7.0 in /usr/local/lib/python3.6/dist-packages (from transformers->manteia) (0.7.0)\n",
            "Requirement already satisfied: tqdm>=4.27 in /usr/local/lib/python3.6/dist-packages (from transformers->manteia) (4.41.1)\n",
            "Requirement already satisfied: regex!=2019.12.17 in /usr/local/lib/python3.6/dist-packages (from transformers->manteia) (2019.12.20)\n",
            "Requirement already satisfied: requests in /usr/local/lib/python3.6/dist-packages (from transformers->manteia) (2.23.0)\n",
            "Requirement already satisfied: dataclasses; python_version < \"3.7\" in /usr/local/lib/python3.6/dist-packages (from transformers->manteia) (0.7)\n",
            "Requirement already satisfied: packaging in /usr/local/lib/python3.6/dist-packages (from transformers->manteia) (20.4)\n",
            "Requirement already satisfied: click in /usr/local/lib/python3.6/dist-packages (from sacremoses->transformers->manteia) (7.1.2)\n",
            "Requirement already satisfied: certifi>=2017.4.17 in /usr/local/lib/python3.6/dist-packages (from requests->transformers->manteia) (2020.4.5.1)\n",
            "Requirement already satisfied: urllib3!=1.25.0,!=1.25.1,<1.26,>=1.21.1 in /usr/local/lib/python3.6/dist-packages (from requests->transformers->manteia) (1.24.3)\n",
            "Requirement already satisfied: chardet<4,>=3.0.2 in /usr/local/lib/python3.6/dist-packages (from requests->transformers->manteia) (3.0.4)\n",
            "Requirement already satisfied: idna<3,>=2.5 in /usr/local/lib/python3.6/dist-packages (from requests->transformers->manteia) (2.9)\n"
          ],
          "name": "stdout"
        }
      ]
    },
    {
      "cell_type": "code",
      "metadata": {
        "id": "IGPczm5WV1Gg",
        "colab_type": "code",
        "colab": {
          "base_uri": "https://localhost:8080/",
          "height": 592
        },
        "outputId": "2a90c95d-56e1-4290-99b8-4f15b8c86291"
      },
      "source": [
        "#!/usr/bin/env python\n",
        "# -*- coding: utf-8 -*-\n",
        "\n",
        "from Manteia.Generation import Generation \n",
        "from Manteia.Dataset import Dataset\n",
        "from Manteia.Model import *\n",
        "\n",
        "\t\n",
        "ds=Dataset('Short_Jokes')\n",
        "\n",
        "model       = Model(model_name ='gpt2')\n",
        "text_loader = Create_DataLoader_generation(ds.documents_train[:10000],batch_size=32)\n",
        "model.load_type()\n",
        "model.load_tokenizer()\n",
        "model.load_class()\n",
        "model.devices()\n",
        "model.configuration(text_loader)\n",
        "\t\n",
        "gn=Generation(model)\n",
        "\t\n",
        "gn.model.fit_generation(text_loader)\n",
        "output      = model.predict_generation('What did you expect ?')\n",
        "output_text = decode_text(output,model.tokenizer)\n",
        "print(output_text)\n",
        "\n"
      ],
      "execution_count": 8,
      "outputs": [
        {
          "output_type": "stream",
          "text": [
            "Loading gpt2 tokenizer...\n",
            "Loading gpt2 class...\n",
            "There are 1 GPU(s) available.\n",
            "We will use the GPU: Tesla K80\n",
            "There are 1 GPU(s) available.\n",
            "We will use the GPU: Tesla K80\n",
            "EPOCH :0\n",
            "EPOCH :1\n",
            "What did you expect?\n",
            "\n",
            "I was expecting to be able to play in a big tournament and not have to worry about my teammates and the team.\n",
            "\n",
            "I think it was just a matter of time until I got a chance.\n",
            "\n",
            "I'm really happy to be here.\n",
            "\n",
            "I've always loved playing for my team and I'm happy to have the opportunity to do so.\n",
            "\n",
            "What's next for you?\n",
            "\n",
            "I'm looking forward to getting back to the team and playing in tournaments and competing in the world championships.\n",
            "\n",
            "What are your plans for the future?\n",
            "\n",
            "I'm looking forward to the next step of my journey.\n",
            "\n",
            "Thank you for your time.\n",
            "\n",
            "-Sebastian\n",
            "\n",
            "Follow me on Twitter: @Sebastian<|endoftext|>\n"
          ],
          "name": "stdout"
        }
      ]
    },
    {
      "cell_type": "code",
      "metadata": {
        "id": "5ekaykpJV1Gl",
        "colab_type": "code",
        "colab": {}
      },
      "source": [
        ""
      ],
      "execution_count": 0,
      "outputs": []
    },
    {
      "cell_type": "code",
      "metadata": {
        "id": "daUZAFFeV1Gp",
        "colab_type": "code",
        "colab": {}
      },
      "source": [
        ""
      ],
      "execution_count": 0,
      "outputs": []
    }
  ]
}