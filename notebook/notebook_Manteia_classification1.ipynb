{
  "nbformat": 4,
  "nbformat_minor": 0,
  "metadata": {
    "kernelspec": {
      "display_name": "tf_gpu",
      "language": "python",
      "name": "tf_gpu"
    },
    "language_info": {
      "codemirror_mode": {
        "name": "ipython",
        "version": 3
      },
      "file_extension": ".py",
      "mimetype": "text/x-python",
      "name": "python",
      "nbconvert_exporter": "python",
      "pygments_lexer": "ipython3",
      "version": "3.7.7"
    },
    "colab": {
      "name": "notebook_Manteia_classification1.ipynb",
      "provenance": []
    },
    "accelerator": "GPU"
  },
  "cells": [
    {
      "cell_type": "markdown",
      "metadata": {
        "id": "V1r_-HJVIRf4",
        "colab_type": "text"
      },
      "source": [
        "[![Open In Colab](https://colab.research.google.com/assets/colab-badge.svg)](https://github.com/ym001/Manteia/blob/master/notebook/notebook_Manteia_classification1.ipynb)\n"
      ]
    },
    {
      "cell_type": "code",
      "metadata": {
        "id": "yc8UeuryFDWa",
        "colab_type": "code",
        "colab": {
          "base_uri": "https://localhost:8080/",
          "height": 1000
        },
        "outputId": "55b19338-475e-4b20-9db5-0774234aa59d"
      },
      "source": [
        "#use GPU for this nootbook\n",
        "pip install manteia"
      ],
      "execution_count": 2,
      "outputs": [
        {
          "output_type": "stream",
          "text": [
            "Collecting manteia\n",
            "  Downloading https://files.pythonhosted.org/packages/e0/e2/1756181d31032d16637fc7706727e9fb5ac94ea88a106176de9655ab80e7/Manteia-0.0.32.tar.gz\n",
            "Collecting wget==3.2\n",
            "  Downloading https://files.pythonhosted.org/packages/47/6a/62e288da7bcda82b935ff0c6cfe542970f04e29c756b0e147251b2fb251f/wget-3.2.zip\n",
            "Requirement already satisfied: matplotlib==3.2.1 in /usr/local/lib/python3.6/dist-packages (from manteia) (3.2.1)\n",
            "Collecting nltk==3.5\n",
            "\u001b[?25l  Downloading https://files.pythonhosted.org/packages/92/75/ce35194d8e3022203cca0d2f896dbb88689f9b3fce8e9f9cff942913519d/nltk-3.5.zip (1.4MB)\n",
            "\u001b[K     |████████████████████████████████| 1.4MB 14.8MB/s \n",
            "\u001b[?25hCollecting numpy==1.18.4\n",
            "\u001b[?25l  Downloading https://files.pythonhosted.org/packages/03/27/e35e7c6e6a52fab9fcc64fc2b20c6b516eba930bb02b10ace3b38200d3ab/numpy-1.18.4-cp36-cp36m-manylinux1_x86_64.whl (20.2MB)\n",
            "\u001b[K     |████████████████████████████████| 20.2MB 1.2MB/s \n",
            "\u001b[?25hCollecting pandas==1.0.3\n",
            "\u001b[?25l  Downloading https://files.pythonhosted.org/packages/bb/71/8f53bdbcbc67c912b888b40def255767e475402e9df64050019149b1a943/pandas-1.0.3-cp36-cp36m-manylinux1_x86_64.whl (10.0MB)\n",
            "\u001b[K     |████████████████████████████████| 10.0MB 170kB/s \n",
            "\u001b[?25hCollecting scikit_learn==0.23.1\n",
            "\u001b[?25l  Downloading https://files.pythonhosted.org/packages/d9/3a/eb8d7bbe28f4787d140bb9df685b7d5bf6115c0e2a969def4027144e98b6/scikit_learn-0.23.1-cp36-cp36m-manylinux1_x86_64.whl (6.8MB)\n",
            "\u001b[K     |████████████████████████████████| 6.9MB 51.9MB/s \n",
            "\u001b[?25hRequirement already satisfied: seaborn==0.10.1 in /usr/local/lib/python3.6/dist-packages (from manteia) (0.10.1)\n",
            "Requirement already satisfied: torch in /usr/local/lib/python3.6/dist-packages (from manteia) (1.5.0+cu101)\n",
            "Collecting transformers==2.9.1\n",
            "\u001b[?25l  Downloading https://files.pythonhosted.org/packages/22/97/7db72a0beef1825f82188a4b923e62a146271ac2ced7928baa4d47ef2467/transformers-2.9.1-py3-none-any.whl (641kB)\n",
            "\u001b[K     |████████████████████████████████| 645kB 60.3MB/s \n",
            "\u001b[?25hRequirement already satisfied: cycler>=0.10 in /usr/local/lib/python3.6/dist-packages (from matplotlib==3.2.1->manteia) (0.10.0)\n",
            "Requirement already satisfied: python-dateutil>=2.1 in /usr/local/lib/python3.6/dist-packages (from matplotlib==3.2.1->manteia) (2.8.1)\n",
            "Requirement already satisfied: kiwisolver>=1.0.1 in /usr/local/lib/python3.6/dist-packages (from matplotlib==3.2.1->manteia) (1.2.0)\n",
            "Requirement already satisfied: pyparsing!=2.0.4,!=2.1.2,!=2.1.6,>=2.0.1 in /usr/local/lib/python3.6/dist-packages (from matplotlib==3.2.1->manteia) (2.4.7)\n",
            "Requirement already satisfied: click in /usr/local/lib/python3.6/dist-packages (from nltk==3.5->manteia) (7.1.2)\n",
            "Requirement already satisfied: joblib in /usr/local/lib/python3.6/dist-packages (from nltk==3.5->manteia) (0.15.1)\n",
            "Requirement already satisfied: regex in /usr/local/lib/python3.6/dist-packages (from nltk==3.5->manteia) (2019.12.20)\n",
            "Requirement already satisfied: tqdm in /usr/local/lib/python3.6/dist-packages (from nltk==3.5->manteia) (4.41.1)\n",
            "Requirement already satisfied: pytz>=2017.2 in /usr/local/lib/python3.6/dist-packages (from pandas==1.0.3->manteia) (2018.9)\n",
            "Collecting threadpoolctl>=2.0.0\n",
            "  Downloading https://files.pythonhosted.org/packages/f7/12/ec3f2e203afa394a149911729357aa48affc59c20e2c1c8297a60f33f133/threadpoolctl-2.1.0-py3-none-any.whl\n",
            "Requirement already satisfied: scipy>=0.19.1 in /usr/local/lib/python3.6/dist-packages (from scikit_learn==0.23.1->manteia) (1.4.1)\n",
            "Requirement already satisfied: future in /usr/local/lib/python3.6/dist-packages (from torch->manteia) (0.16.0)\n",
            "Collecting tokenizers==0.7.0\n",
            "\u001b[?25l  Downloading https://files.pythonhosted.org/packages/14/e5/a26eb4716523808bb0a799fcfdceb6ebf77a18169d9591b2f46a9adb87d9/tokenizers-0.7.0-cp36-cp36m-manylinux1_x86_64.whl (3.8MB)\n",
            "\u001b[K     |████████████████████████████████| 3.8MB 51.2MB/s \n",
            "\u001b[?25hRequirement already satisfied: dataclasses; python_version < \"3.7\" in /usr/local/lib/python3.6/dist-packages (from transformers==2.9.1->manteia) (0.7)\n",
            "Requirement already satisfied: filelock in /usr/local/lib/python3.6/dist-packages (from transformers==2.9.1->manteia) (3.0.12)\n",
            "Collecting sentencepiece\n",
            "\u001b[?25l  Downloading https://files.pythonhosted.org/packages/d4/a4/d0a884c4300004a78cca907a6ff9a5e9fe4f090f5d95ab341c53d28cbc58/sentencepiece-0.1.91-cp36-cp36m-manylinux1_x86_64.whl (1.1MB)\n",
            "\u001b[K     |████████████████████████████████| 1.1MB 52.2MB/s \n",
            "\u001b[?25hRequirement already satisfied: requests in /usr/local/lib/python3.6/dist-packages (from transformers==2.9.1->manteia) (2.23.0)\n",
            "Collecting sacremoses\n",
            "\u001b[?25l  Downloading https://files.pythonhosted.org/packages/7d/34/09d19aff26edcc8eb2a01bed8e98f13a1537005d31e95233fd48216eed10/sacremoses-0.0.43.tar.gz (883kB)\n",
            "\u001b[K     |████████████████████████████████| 890kB 50.9MB/s \n",
            "\u001b[?25hRequirement already satisfied: six in /usr/local/lib/python3.6/dist-packages (from cycler>=0.10->matplotlib==3.2.1->manteia) (1.12.0)\n",
            "Requirement already satisfied: urllib3!=1.25.0,!=1.25.1,<1.26,>=1.21.1 in /usr/local/lib/python3.6/dist-packages (from requests->transformers==2.9.1->manteia) (1.24.3)\n",
            "Requirement already satisfied: certifi>=2017.4.17 in /usr/local/lib/python3.6/dist-packages (from requests->transformers==2.9.1->manteia) (2020.4.5.1)\n",
            "Requirement already satisfied: idna<3,>=2.5 in /usr/local/lib/python3.6/dist-packages (from requests->transformers==2.9.1->manteia) (2.9)\n",
            "Requirement already satisfied: chardet<4,>=3.0.2 in /usr/local/lib/python3.6/dist-packages (from requests->transformers==2.9.1->manteia) (3.0.4)\n",
            "Building wheels for collected packages: manteia, wget, nltk, sacremoses\n",
            "  Building wheel for manteia (setup.py) ... \u001b[?25l\u001b[?25hdone\n",
            "  Created wheel for manteia: filename=Manteia-0.0.32-cp36-none-any.whl size=32880 sha256=ea1a24a8304c325a92eb7e5db3ec2450f1f9d1042b609e3177cde1794a437087\n",
            "  Stored in directory: /root/.cache/pip/wheels/fd/c4/09/a44c959a3e4c9a7fb3545611b52ba8a3ef7a040f8e42522ba8\n",
            "  Building wheel for wget (setup.py) ... \u001b[?25l\u001b[?25hdone\n",
            "  Created wheel for wget: filename=wget-3.2-cp36-none-any.whl size=9682 sha256=ea870c6c4e066a0c4e2f6f28595cacb7550791ac04b9c5d3beb46a8e7f25d68e\n",
            "  Stored in directory: /root/.cache/pip/wheels/40/15/30/7d8f7cea2902b4db79e3fea550d7d7b85ecb27ef992b618f3f\n",
            "  Building wheel for nltk (setup.py) ... \u001b[?25l\u001b[?25hdone\n",
            "  Created wheel for nltk: filename=nltk-3.5-cp36-none-any.whl size=1434677 sha256=9b53bfa5d602aafc7f0716f9e1bc7c2eb9d9598aa19dbbbe6817ebac97caae4e\n",
            "  Stored in directory: /root/.cache/pip/wheels/ae/8c/3f/b1fe0ba04555b08b57ab52ab7f86023639a526d8bc8d384306\n",
            "  Building wheel for sacremoses (setup.py) ... \u001b[?25l\u001b[?25hdone\n",
            "  Created wheel for sacremoses: filename=sacremoses-0.0.43-cp36-none-any.whl size=893260 sha256=76974b35fcf14d17d881d5e6e4e808bf836573698dc26bd34fda78de336172af\n",
            "  Stored in directory: /root/.cache/pip/wheels/29/3c/fd/7ce5c3f0666dab31a50123635e6fb5e19ceb42ce38d4e58f45\n",
            "Successfully built manteia wget nltk sacremoses\n",
            "\u001b[31mERROR: datascience 0.10.6 has requirement folium==0.2.1, but you'll have folium 0.8.3 which is incompatible.\u001b[0m\n",
            "\u001b[31mERROR: albumentations 0.1.12 has requirement imgaug<0.2.7,>=0.2.5, but you'll have imgaug 0.2.9 which is incompatible.\u001b[0m\n",
            "Installing collected packages: wget, nltk, numpy, pandas, threadpoolctl, scikit-learn, tokenizers, sentencepiece, sacremoses, transformers, manteia\n",
            "  Found existing installation: nltk 3.2.5\n",
            "    Uninstalling nltk-3.2.5:\n",
            "      Successfully uninstalled nltk-3.2.5\n",
            "  Found existing installation: numpy 1.18.5\n",
            "    Uninstalling numpy-1.18.5:\n",
            "      Successfully uninstalled numpy-1.18.5\n",
            "  Found existing installation: pandas 1.0.4\n",
            "    Uninstalling pandas-1.0.4:\n",
            "      Successfully uninstalled pandas-1.0.4\n",
            "  Found existing installation: scikit-learn 0.22.2.post1\n",
            "    Uninstalling scikit-learn-0.22.2.post1:\n",
            "      Successfully uninstalled scikit-learn-0.22.2.post1\n",
            "Successfully installed manteia-0.0.32 nltk-3.5 numpy-1.18.4 pandas-1.0.3 sacremoses-0.0.43 scikit-learn-0.23.1 sentencepiece-0.1.91 threadpoolctl-2.1.0 tokenizers-0.7.0 transformers-2.9.1 wget-3.2\n"
          ],
          "name": "stdout"
        },
        {
          "output_type": "display_data",
          "data": {
            "application/vnd.colab-display-data+json": {
              "pip_warning": {
                "packages": [
                  "numpy",
                  "pandas"
                ]
              }
            }
          },
          "metadata": {
            "tags": []
          }
        }
      ]
    },
    {
      "cell_type": "code",
      "metadata": {
        "id": "017wNSk5E71p",
        "colab_type": "code",
        "colab": {
          "base_uri": "https://localhost:8080/",
          "height": 1000
        },
        "outputId": "6281125d-42a0-4bba-ab93-73a044c344a6"
      },
      "source": [
        "from Manteia.Classification import Classification \n",
        "from Manteia.Model import Model \n",
        "from Manteia.Dataset import Dataset \n",
        "from Manteia.Statistic import Statistic\n",
        "from Manteia.Visualisation import Visualisation\n",
        "\n",
        "ds=Dataset('drugscom',path='./')\n",
        "stat=Statistic(ds.documents_train,ds.labels_train)\n",
        "\n",
        "visu = Visualisation()\n",
        "visu.plot_boxplot(ds.labels_train,stat.length_of_documents(),ylim=500)\n",
        "\n",
        "model = Model(model_name ='roberta',early_stopping=True)\n",
        "cl=Classification(model,documents_train=ds.documents_train[:1000],labels_train=ds.labels_train[:1000],process_classif=True)\n",
        "print(cl.predict(ds.documents_train[:2]))"
      ],
      "execution_count": 4,
      "outputs": [
        {
          "output_type": "stream",
          "text": [
            "Dataset : \n",
            "Number of documents : 161297\n",
            "Type : multilabel\n",
            "List of labels : ['1.0' '10.0' '2.0' '3.0' '4.0' '5.0' '6.0' '7.0' '8.0' '9.0']\n",
            "Number of classes : 10\n",
            "Word count per document : 85.64678822296757\n",
            "Unique word count : 208284\n",
            "Document count per classe : {'1.0': 21619, '10.0': 50989, '2.0': 6931, '3.0': 6513, '4.0': 5012, '5.0': 8013, '6.0': 6343, '7.0': 9456, '8.0': 18890, '9.0': 27531}\n",
            "\n",
            "\n"
          ],
          "name": "stdout"
        },
        {
          "output_type": "display_data",
          "data": {
            "image/png": "[encoded data removed]",
            "text/plain": [
              "<Figure size 432x288 with 1 Axes>"
            ]
          },
          "metadata": {
            "tags": [],
            "needs_background": "light"
          }
        },
        {
          "output_type": "stream",
          "text": [
            "Loading roberta tokenizer...\n",
            "Loading roberta class...\n"
          ],
          "name": "stdout"
        },
        {
          "output_type": "stream",
          "text": [
            "Token indices sequence length is longer than the specified maximum sequence length for this model (569 > 512). Running this sequence through the model will result in indexing errors\n"
          ],
          "name": "stderr"
        },
        {
          "output_type": "stream",
          "text": [
            "There are 1 GPU(s) available.\n",
            "We will use the GPU: Tesla P100-PCIE-16GB\n",
            "\n",
            "======== Epoch 1 / 20 ========\n",
            "\n",
            "\n",
            "  Average training loss: 2.09\n",
            "\n",
            "\n",
            "Validation : Accuracy : 0.38\n",
            "Validation accuracy increased (0.000000 --> 0.380000).  Saving model ...\n",
            "Successfully created the directory ./model/ \n",
            "\n",
            "======== Epoch 2 / 20 ========\n",
            "\n",
            "\n",
            "  Average training loss: 1.88\n",
            "\n",
            "\n",
            "Validation : Accuracy : 0.45\n",
            "Save model : 0 out of 2\n",
            "Validation accuracy increased (0.380000 --> 0.450000).  Saving model ...\n",
            "\n",
            "======== Epoch 3 / 20 ========\n",
            "\n",
            "\n",
            "  Average training loss: 1.62\n",
            "\n",
            "\n",
            "Validation : Accuracy : 0.41\n",
            "EarlyStopping counter: 1 out of 2\n",
            "\n",
            "======== Epoch 4 / 20 ========\n",
            "\n",
            "\n",
            "  Average training loss: 1.44\n",
            "\n",
            "\n",
            "Validation : Accuracy : 0.38\n",
            "EarlyStopping counter: 2 out of 2\n",
            "\n",
            "Early stopping\n",
            "\n",
            "Training complete!\n",
            "Predicting :\n",
            "['10.0', '10.0']\n"
          ],
          "name": "stdout"
        }
      ]
    }
  ]
}